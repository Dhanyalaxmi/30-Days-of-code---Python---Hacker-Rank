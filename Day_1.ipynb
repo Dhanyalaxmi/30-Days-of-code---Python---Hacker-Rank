{
  "nbformat": 4,
  "nbformat_minor": 0,
  "metadata": {
    "colab": {
      "name": "Day 1.ipynb",
      "provenance": []
    },
    "kernelspec": {
      "name": "python3",
      "display_name": "Python 3"
    },
    "language_info": {
      "name": "python"
    }
  },
  "cells": [
    {
      "cell_type": "markdown",
      "metadata": {
        "id": "DOM7dUZr33Wd"
      },
      "source": [
        "Objective\n",
        "Today, we're discussing data types. Check out the Tutorial tab for learning materials and an instructional video!\n",
        "\n",
        "Task\n",
        "Complete the code in the editor below. The variables , , and  are already declared and initialized for you. You must:\n",
        "\n",
        "Declare  variables: one of type int, one of type double, and one of type String.\n",
        "Read  lines of input from stdin (according to the sequence given in the Input Format section below) and initialize your  variables.\n",
        "Use the  operator to perform the following operations:\n",
        "Print the sum of  plus your int variable on a new line.\n",
        "Print the sum of  plus your double variable to a scale of one decimal place on a new line.\n",
        "Concatenate  with the string you read as input and print the result on a new line.\n",
        "Note: If you are using a language that doesn't support using  for string concatenation (e.g.: C), you can just print one variable immediately following the other on the same line. The string provided in your editor must be printed first, immediately followed by the string you read as input.\n",
        "\n",
        "Input Format\n",
        "\n",
        "The first line contains an integer that you must sum with .\n",
        "The second line contains a double that you must sum with .\n",
        "The third line contains a string that you must concatenate with .\n",
        "\n",
        "Output Format\n",
        "\n",
        "Print the sum of both integers on the first line, the sum of both doubles (scaled to  decimal place) on the second line, and then the two concatenated strings on the third line.\n",
        "\n",
        "Sample Input\n",
        "\n",
        "12\n",
        "4.0\n",
        "is the best place to learn and practice coding!\n",
        "Sample Output\n",
        "\n",
        "16\n",
        "8.0\n",
        "HackerRank is the best place to learn and practice coding!\n",
        "Explanation\n",
        "\n",
        "When we sum the integers  and , we get the integer .\n",
        "When we sum the floating-point numbers  and , we get .\n",
        "When we concatenate HackerRank with is the best place to learn and practice coding!, we get HackerRank is the best place to learn and practice coding!.\n",
        "\n",
        "You will not pass this challenge if you attempt to assign the Sample Case values to your variables instead of following the instructions above and reading input from stdin.\n",
        "\n",
        "\n"
      ]
    },
    {
      "cell_type": "code",
      "metadata": {
        "id": "aaBsl-J93kyK"
      },
      "source": [
        "i = 4\n",
        "d = 4.0\n",
        "s = 'HackerRank '\n",
        "# Declare second integer, double, and String variables.\n",
        "i1 = input()\n",
        "i1 = int(i1)\n",
        "d1 = input()\n",
        "d1 = float(d1)\n",
        "s1 = input()\n",
        "# Read and save an integer, double, and String to your variables.\n",
        "\n",
        "# Print the sum of both integer variables on a new line.\n",
        "print(i+i1)\n",
        "# Print the sum of the double variables on a new line.\n",
        "print(d+d1)\n",
        "# Concatenate and print the String variables on a new line\n",
        "print(s+s1)\n",
        "# The 's' variable above should be printed first."
      ],
      "execution_count": null,
      "outputs": []
    }
  ]
}