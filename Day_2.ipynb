{
  "nbformat": 4,
  "nbformat_minor": 0,
  "metadata": {
    "colab": {
      "name": "Day 2.ipynb",
      "provenance": []
    },
    "kernelspec": {
      "name": "python3",
      "display_name": "Python 3"
    },
    "language_info": {
      "name": "python"
    }
  },
  "cells": [
    {
      "cell_type": "markdown",
      "metadata": {
        "id": "gCdyfg7c7JRm"
      },
      "source": [
        "Objective\n",
        "In this challenge, you will work with arithmetic operators. Check out the Tutorial tab for learning materials and an instructional video.\n",
        "\n",
        "Task\n",
        "Given the meal price (base cost of a meal), tip percent (the percentage of the meal price being added as tip), and tax percent (the percentage of the meal price being added as tax) for a meal, find and print the meal's total cost. Round the result to the nearest integer.\n",
        "\n",
        "Example\n",
        "\n",
        "\n",
        "\n",
        "A tip of 15% * 100 = 15, and the taxes are 8% * 100 = 8. Print the value  and return from the function.\n",
        "\n",
        "Function Description\n",
        "Complete the solve function in the editor below.\n",
        "\n",
        "solve has the following parameters:\n",
        "\n",
        "int meal_cost: the cost of food before tip and tax\n",
        "int tip_percent: the tip percentage\n",
        "int tax_percent: the tax percentage\n",
        "Returns The function returns nothing. Print the calculated value, rounded to the nearest integer.\n",
        "\n",
        "Note: Be sure to use precise values for your calculations, or you may end up with an incorrectly rounded result.\n",
        "\n",
        "Input Format\n",
        "\n",
        "There are  lines of numeric input:\n",
        "The first line has a double,  (the cost of the meal before tax and tip).\n",
        "The second line has an integer,  (the percentage of  being added as tip).\n",
        "The third line has an integer,  (the percentage of  being added as tax).\n",
        "\n",
        "Sample Input\n",
        "\n",
        "12.00\n",
        "20\n",
        "8\n",
        "Sample Output\n",
        "\n",
        "15"
      ]
    },
    {
      "cell_type": "code",
      "metadata": {
        "id": "A8NnX5zJ6-JD"
      },
      "source": [
        "#!/bin/python3\n",
        "\n",
        "import math\n",
        "import os\n",
        "import random\n",
        "import re\n",
        "import sys"
      ],
      "execution_count": null,
      "outputs": []
    },
    {
      "cell_type": "code",
      "metadata": {
        "id": "46TXP3GG61iT"
      },
      "source": [
        "# Complete the 'solve' function below.\n",
        "#\n",
        "# The function accepts following parameters:\n",
        "#  1. DOUBLE meal_cost\n",
        "#  2. INTEGER tip_percent\n",
        "#  3. INTEGER tax_percent\n",
        "#\n",
        "\n",
        "def solve(meal_cost, tip_percent, tax_percent):\n",
        "    # Write your code here\n",
        "    tip = meal_cost * tip_percent * 0.01\n",
        "    tax = meal_cost * tax_percent * 0.01\n",
        "    total = int(round((meal_cost + tip + tax),0))\n",
        "    print(total)\n"
      ],
      "execution_count": null,
      "outputs": []
    },
    {
      "cell_type": "code",
      "metadata": {
        "id": "v-8zJtBF7EYQ"
      },
      "source": [
        "if __name__ == '__main__':\n",
        "    meal_cost = float(input().strip())\n",
        "\n",
        "    tip_percent = int(input().strip())\n",
        "\n",
        "    tax_percent = int(input().strip())\n",
        "\n",
        "    solve(meal_cost, tip_percent, tax_percent)"
      ],
      "execution_count": null,
      "outputs": []
    }
  ]
}