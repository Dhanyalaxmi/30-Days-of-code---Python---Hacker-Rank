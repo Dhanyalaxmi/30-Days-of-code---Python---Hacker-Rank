{
  "nbformat": 4,
  "nbformat_minor": 0,
  "metadata": {
    "colab": {
      "name": "HDay 3.ipynb",
      "provenance": []
    },
    "kernelspec": {
      "name": "python3",
      "display_name": "Python 3"
    },
    "language_info": {
      "name": "python"
    }
  },
  "cells": [
    {
      "cell_type": "markdown",
      "metadata": {
        "id": "P2SJKQSO829o"
      },
      "source": [
        "Objective\n",
        "In this challenge, we learn about conditional statements. Check out the Tutorial tab for learning materials and an instructional video.\n",
        "\n",
        "Task\n",
        "Given an integer, , perform the following conditional actions:\n",
        "\n",
        "If  is odd, print Weird\n",
        "If  is even and in the inclusive range of  to , print Not Weird\n",
        "If  is even and in the inclusive range of  to , print Weird\n",
        "If  is even and greater than , print Not Weird\n",
        "Complete the stub code provided in your editor to print whether or not  is weird.\n",
        "\n",
        "Input Format\n",
        "\n",
        "A single line containing a positive integer, ."
      ]
    },
    {
      "cell_type": "code",
      "metadata": {
        "id": "nxbruOkb8zEV"
      },
      "source": [
        "#!/bin/python3\n",
        "\n",
        "import math\n",
        "import os\n",
        "import random\n",
        "import re\n",
        "import sys\n",
        "\n",
        "\n",
        "\n",
        "if __name__ == '__main__':\n",
        "    N = int(input().strip())\n",
        "    \n",
        "    if (N%2 != 0):\n",
        "        print(\"Weird\")\n",
        "    elif (N>1 and N<6):\n",
        "        print(\"Not Weird\")\n",
        "    elif (N> 5 and N<21 ):\n",
        "        print(\"Weird\")\n",
        "    elif (N>20):\n",
        "        print(\"Not Weird\")            "
      ],
      "execution_count": null,
      "outputs": []
    }
  ]
}