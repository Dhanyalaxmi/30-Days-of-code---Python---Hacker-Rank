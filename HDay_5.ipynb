{
  "nbformat": 4,
  "nbformat_minor": 0,
  "metadata": {
    "colab": {
      "name": "HDay 5.ipynb",
      "provenance": [],
      "collapsed_sections": []
    },
    "kernelspec": {
      "name": "python3",
      "display_name": "Python 3"
    },
    "language_info": {
      "name": "python"
    }
  },
  "cells": [
    {
      "cell_type": "markdown",
      "metadata": {
        "id": "LKj07H2Nq2Rf"
      },
      "source": [
        "Objective\n",
        "In this challenge, we will use loops to do some math. Check out the Tutorial tab to learn more.\n",
        "\n",
        "Task\n",
        "Given an integer, , print its first  multiples. Each multiple  (where ) should be printed on a new line in the form: n x i = result.\n",
        "\n",
        "Example\n",
        "\n",
        "The printout should look like this:\n",
        "\n",
        "3 x 1 = 3\n",
        "3 x 2 = 6\n",
        "3 x 3 = 9\n",
        "3 x 4 = 12\n",
        "3 x 5 = 15\n",
        "3 x 6 = 18\n",
        "3 x 7 = 21\n",
        "3 x 8 = 24\n",
        "3 x 9 = 27\n",
        "3 x 10 = 30\n",
        "Input Format\n",
        "\n",
        "A single integer, .\n",
        "\n",
        "Constraints\n",
        "\n"
      ]
    },
    {
      "cell_type": "code",
      "metadata": {
        "id": "TKCJY18KquSX"
      },
      "source": [
        "#!/bin/python3\n",
        "\n",
        "import math\n",
        "import os\n",
        "import random\n",
        "import re\n",
        "import sys\n",
        "\n",
        "\n",
        "\n",
        "if __name__ == '__main__':\n",
        "    n = int(input().strip())\n",
        "    if n >1 and n < 21:\n",
        "        for i in range(1,11):\n",
        "            mul = n * i\n",
        "            print(f\"{n} x {i} = {mul} \")\n"
      ],
      "execution_count": null,
      "outputs": []
    }
  ]
}