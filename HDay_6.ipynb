{
  "nbformat": 4,
  "nbformat_minor": 0,
  "metadata": {
    "colab": {
      "name": "HDay 6.ipynb",
      "provenance": [],
      "collapsed_sections": []
    },
    "kernelspec": {
      "name": "python3",
      "display_name": "Python 3"
    },
    "language_info": {
      "name": "python"
    }
  },
  "cells": [
    {
      "cell_type": "markdown",
      "metadata": {
        "id": "mfi15GoHr4ht"
      },
      "source": [
        "Objective\n",
        "Today we will expand our knowledge of strings, combining it with what we have already learned about loops. Check out the Tutorial tab for learning materials and an instructional video.\n",
        "\n",
        "Task\n",
        "Given a string, , of length  that is indexed from  to , print its even-indexed and odd-indexed characters as  space-separated strings on a single line (see the Sample below for more detail).\n",
        "\n",
        "Note:  is considered to be an even index.\n",
        "\n",
        "Example\n",
        "\n",
        "\n",
        "Print abc def\n",
        "\n",
        "Input Format\n",
        "\n",
        "The first line contains an integer,  (the number of test cases).\n",
        "Each line  of the  subsequent lines contain a string, .\n",
        "\n",
        "Constraints\n",
        "\n",
        "Output Format\n",
        "\n",
        "For each String  (where ), print 's even-indexed characters, followed by a space, followed by 's odd-indexed characters.\n",
        "\n",
        "Sample Input\n",
        "\n",
        "2\n",
        "Hacker\n",
        "Rank\n",
        "Sample Output\n",
        "\n",
        "Hce akr\n",
        "Rn ak"
      ]
    },
    {
      "cell_type": "code",
      "metadata": {
        "colab": {
          "base_uri": "https://localhost:8080/"
        },
        "id": "deG0oVsZrEHp",
        "outputId": "07ae4880-a0da-4eae-dcd3-8b9425839a85"
      },
      "source": [
        "t = int(input().strip())\n",
        "for i in range(t):\n",
        "  s = (input().strip())\n",
        "  even = \"\"\n",
        "  odd = \"\"\n",
        "  for j in range(len(s)):\n",
        "    if j % 2 == 0:\n",
        "      even += s[j]\n",
        "    else:\n",
        "      odd += s[j]  \n",
        "  print(f\"{even} {odd}\")    \n",
        "  "
      ],
      "execution_count": 9,
      "outputs": [
        {
          "output_type": "stream",
          "text": [
            "2\n",
            "hacker\n",
            "hce akr\n",
            "rank\n",
            "rn ak\n"
          ],
          "name": "stdout"
        }
      ]
    }
  ]
}