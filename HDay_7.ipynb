{
  "nbformat": 4,
  "nbformat_minor": 0,
  "metadata": {
    "colab": {
      "name": "HDay 7.ipynb",
      "provenance": [],
      "collapsed_sections": []
    },
    "kernelspec": {
      "name": "python3",
      "display_name": "Python 3"
    },
    "language_info": {
      "name": "python"
    }
  },
  "cells": [
    {
      "cell_type": "code",
      "metadata": {
        "id": "37OGXiRAFkE7"
      },
      "source": [
        "#!/bin/python3\n",
        "\n",
        "import math\n",
        "import os\n",
        "import random\n",
        "import re\n",
        "import sys\n",
        "\n",
        "\n",
        "\n",
        "if __name__ == '__main__':\n",
        "    n = int(input().strip())\n",
        "    if n >0 and n < 1001:\n",
        "        data = \"\"\n",
        "        arr = list(map(int, input().rstrip().split()))\n",
        "        rev_arr = arr[::-1]\n",
        "        for i in range(n):\n",
        "            data = data +\" \"+ str(rev_arr[i])\n",
        "            \n",
        "        print(data[1:]) \n",
        "    else:\n",
        "        print(\"The no.of testcases should be in the range (1-1000)\")\n",
        "                   "
      ],
      "execution_count": null,
      "outputs": []
    }
  ]
}