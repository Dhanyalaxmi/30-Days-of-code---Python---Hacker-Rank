{
  "nbformat": 4,
  "nbformat_minor": 0,
  "metadata": {
    "colab": {
      "name": "HDay 8.ipynb",
      "provenance": [],
      "collapsed_sections": []
    },
    "kernelspec": {
      "name": "python3",
      "display_name": "Python 3"
    },
    "language_info": {
      "name": "python"
    }
  },
  "cells": [
    {
      "cell_type": "code",
      "metadata": {
        "id": "37OGXiRAFkE7"
      },
      "source": [
        "# Enter your code here. Read input from STDIN. Print output to STDOUT\n",
        "n = int(input().strip())\n",
        "phone_dic = {}\n",
        "for i in range(n):\n",
        "    data = input().strip().split()\n",
        "    phone_dic[data[0]] = data[1]\n",
        "\n",
        "\n",
        "    \n",
        "while True:\n",
        "    try:\n",
        "        inpt = input()\n",
        "        if inpt in phone_dic:\n",
        "            print(inpt+\"=\"+phone_dic[inpt])\n",
        "        else:\n",
        "            print(\"Not found\")\n",
        "    except EOFError:\n",
        "        break    \n",
        "    \n",
        "    \n"
      ],
      "execution_count": null,
      "outputs": []
    }
  ]
}