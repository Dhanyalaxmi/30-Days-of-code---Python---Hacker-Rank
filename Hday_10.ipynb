{
  "nbformat": 4,
  "nbformat_minor": 0,
  "metadata": {
    "colab": {
      "name": "Hday 10.ipynb",
      "provenance": [],
      "collapsed_sections": []
    },
    "kernelspec": {
      "name": "python3",
      "display_name": "Python 3"
    },
    "language_info": {
      "name": "python"
    }
  },
  "cells": [
    {
      "cell_type": "code",
      "metadata": {
        "id": "fYfOlIaKJN1q"
      },
      "source": [
        "#!/bin/python3\n",
        "\n",
        "import math\n",
        "import os\n",
        "import random\n",
        "import re\n",
        "import sys\n",
        "\n",
        "\n",
        "\n",
        "if __name__ == '__main__':\n",
        "    n = int(input().strip())\n",
        "    binary = []\n",
        "    num = n\n",
        "    count = 0\n",
        "    counter = []\n",
        "\n",
        "    while (num >= 1):\n",
        "        q, r = divmod(num, 2)\n",
        "        binary.append(r)\n",
        "        num = q\n",
        "    binary = binary[::-1]  \n",
        "    #print(binary)  \n",
        "    for i in binary:\n",
        "        if i == 1:\n",
        "            count += 1\n",
        "        else:\n",
        "            counter.append(count)\n",
        "            count = 0 \n",
        "    counter.append(count)        \n",
        "    print(max(counter))"
      ],
      "execution_count": null,
      "outputs": []
    }
  ]
}